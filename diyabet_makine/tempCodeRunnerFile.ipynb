# Veri setini yükleyin
df = pd.read_csv('diabetes.csv')

# Azınlık sınıfı (target == 1) ve baskın sınıfı (target == 0) ayıralım
minority_class = df[df['Outcome'] == 1]
majority_class = df[df['Outcome'] == 0]

# Azınlık sınıfını (1) 25 örneğe indirgemek
minority_undersampled = resample(minority_class,
                                 replace=False,  # Aynı örnekleri çoğaltma
                                 n_samples=100,  # 1 sınıfının örnek sayısını 25'e indirmek
                                 random_state=42)

# Azınlık sınıfı (1) ve baskın sınıfı (0) birleştirelim
df_undersampled = pd.concat([majority_class, minority_undersampled])

# Yeni sınıf dağılımını kontrol edelim
print(df_undersampled['Outcome'].value_counts())

# Sınıf dağılımını görselleştirelim
class_distribution = df_undersampled['Outcome'].value_counts()

# Bar grafiği oluşturma
class_distribution.plot(kind='bar', color=['skyblue', 'salmon'], edgecolor='black')

# Grafik başlığı ve etiketler
plt.title('Outcome Sınıf Dağılımı')
plt.xlabel('Outcome (Sınıf)')
plt.ylabel('Örnek Sayısı')

# Grafiği göster
plt.show()
